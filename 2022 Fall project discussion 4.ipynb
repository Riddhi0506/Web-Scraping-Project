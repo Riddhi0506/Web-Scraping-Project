{
 "cells": [
  {
   "cell_type": "code",
   "execution_count": 1,
   "id": "6195ca29",
   "metadata": {},
   "outputs": [],
   "source": [
    "dict500 = {'The Godfather':{('Francis Coppola','Michael Bay'):['Drama', 'Crime']}, \n",
    "           'Saving Private Ryan':{('Steven Spielberg', 'Michael Bay'):['Action', 'War', 'Drama']},\n",
    "           \"Schindler's List\":{('Steven Spielberg', 'Francis Coppola'):['War', 'Drama', 'Disaster']}}"
   ]
  },
  {
   "cell_type": "markdown",
   "id": "c55e9e87",
   "metadata": {},
   "source": [
    "# As an example, user chose option 2"
   ]
  },
  {
   "cell_type": "code",
   "execution_count": 1,
   "id": "9e9cb6e6",
   "metadata": {},
   "outputs": [],
   "source": [
    "#suppose user chose option 2\n",
    "inp = 'Steven Spielberg'"
   ]
  },
  {
   "cell_type": "code",
   "execution_count": 2,
   "id": "0afecd42",
   "metadata": {},
   "outputs": [
    {
     "ename": "NameError",
     "evalue": "name 'dict500' is not defined",
     "output_type": "error",
     "traceback": [
      "\u001b[1;31m---------------------------------------------------------------------------\u001b[0m",
      "\u001b[1;31mNameError\u001b[0m                                 Traceback (most recent call last)",
      "Input \u001b[1;32mIn [2]\u001b[0m, in \u001b[0;36m<cell line: 3>\u001b[1;34m()\u001b[0m\n\u001b[0;32m      1\u001b[0m movies_directed \u001b[38;5;241m=\u001b[39m []\n\u001b[0;32m      2\u001b[0m genres_directed \u001b[38;5;241m=\u001b[39m []\n\u001b[1;32m----> 3\u001b[0m \u001b[38;5;28;01mfor\u001b[39;00m key1, value1 \u001b[38;5;129;01min\u001b[39;00m \u001b[43mdict500\u001b[49m\u001b[38;5;241m.\u001b[39mitems():\n\u001b[0;32m      4\u001b[0m     \u001b[38;5;28;01mfor\u001b[39;00m key2, value2 \u001b[38;5;129;01min\u001b[39;00m value1\u001b[38;5;241m.\u001b[39mitems():\n\u001b[0;32m      5\u001b[0m         \u001b[38;5;28;01mif\u001b[39;00m inp \u001b[38;5;129;01min\u001b[39;00m key2:\n",
      "\u001b[1;31mNameError\u001b[0m: name 'dict500' is not defined"
     ]
    }
   ],
   "source": [
    "movies_directed = []\n",
    "genres_directed = []\n",
    "for key1, value1 in dict500.items():\n",
    "    for key2, value2 in value1.items():\n",
    "        if inp in key2:\n",
    "            movies_directed.append(key1)\n",
    "            genres_directed.extend(value2)"
   ]
  },
  {
   "cell_type": "code",
   "execution_count": null,
   "id": "94cc67bb",
   "metadata": {},
   "outputs": [],
   "source": [
    "movies_directed"
   ]
  },
  {
   "cell_type": "code",
   "execution_count": 5,
   "id": "9c2fab9a",
   "metadata": {},
   "outputs": [
    {
     "data": {
      "text/plain": [
       "['Action', 'War', 'Drama', 'War', 'Drama', 'Disaster']"
      ]
     },
     "execution_count": 5,
     "metadata": {},
     "output_type": "execute_result"
    }
   ],
   "source": [
    "genres_directed"
   ]
  },
  {
   "cell_type": "markdown",
   "id": "f82a32af",
   "metadata": {},
   "source": [
    "# As an example, user chose option 3 and give the names of 2 directors"
   ]
  },
  {
   "cell_type": "code",
   "execution_count": 6,
   "id": "c3e7d053",
   "metadata": {},
   "outputs": [],
   "source": [
    "director1 = 'Steven Spielberg'\n",
    "director2 = 'Michael Bay'"
   ]
  },
  {
   "cell_type": "code",
   "execution_count": 7,
   "id": "7b4b2262",
   "metadata": {},
   "outputs": [],
   "source": [
    "genres_1 = []\n",
    "\n",
    "for key1, value1 in dict500.items():\n",
    "    for key2, value2 in value1.items():\n",
    "        if director1 in key2:\n",
    "            #movies_directed.append(key1)\n",
    "            genres_1.extend(value2)"
   ]
  },
  {
   "cell_type": "code",
   "execution_count": 9,
   "id": "beab2e13",
   "metadata": {},
   "outputs": [],
   "source": [
    "genres_2 = []\n",
    "\n",
    "for key1, value1 in dict500.items():\n",
    "    for key2, value2 in value1.items():\n",
    "        if director2 in key2:\n",
    "            #movies_directed.append(key1)\n",
    "            genres_2.extend(value2)"
   ]
  },
  {
   "cell_type": "code",
   "execution_count": 8,
   "id": "b94144d3",
   "metadata": {},
   "outputs": [
    {
     "data": {
      "text/plain": [
       "['Action', 'War', 'Drama', 'War', 'Drama', 'Disaster']"
      ]
     },
     "execution_count": 8,
     "metadata": {},
     "output_type": "execute_result"
    }
   ],
   "source": [
    "genres_1"
   ]
  },
  {
   "cell_type": "code",
   "execution_count": 10,
   "id": "8fb4d3d9",
   "metadata": {},
   "outputs": [
    {
     "data": {
      "text/plain": [
       "['Drama', 'Crime', 'Action', 'War', 'Drama']"
      ]
     },
     "execution_count": 10,
     "metadata": {},
     "output_type": "execute_result"
    }
   ],
   "source": [
    "genres_2"
   ]
  },
  {
   "cell_type": "markdown",
   "id": "122f2742",
   "metadata": {},
   "source": [
    "## Next, get the common genres"
   ]
  },
  {
   "cell_type": "code",
   "execution_count": 11,
   "id": "0da04b0b",
   "metadata": {},
   "outputs": [],
   "source": [
    "common_genres = set(genres_1).union(set(genres_2))"
   ]
  },
  {
   "cell_type": "code",
   "execution_count": 12,
   "id": "2b269eed",
   "metadata": {},
   "outputs": [
    {
     "data": {
      "text/plain": [
       "{'Action', 'Crime', 'Disaster', 'Drama', 'War'}"
      ]
     },
     "execution_count": 12,
     "metadata": {},
     "output_type": "execute_result"
    }
   ],
   "source": [
    "common_genres"
   ]
  },
  {
   "cell_type": "code",
   "execution_count": 13,
   "id": "e8f62325",
   "metadata": {},
   "outputs": [
    {
     "data": {
      "text/plain": [
       "{'Action': 1, 'War': 2, 'Drama': 2, 'Disaster': 1}"
      ]
     },
     "execution_count": 13,
     "metadata": {},
     "output_type": "execute_result"
    }
   ],
   "source": [
    "dict1 = {}\n",
    "for i in genres_1:\n",
    "    if i not in dict1:\n",
    "        dict1[i] = 1\n",
    "    else:\n",
    "        dict1[i] = dict1[i] + 1\n",
    "dict1"
   ]
  },
  {
   "cell_type": "code",
   "execution_count": 14,
   "id": "485efb83",
   "metadata": {},
   "outputs": [
    {
     "data": {
      "text/plain": [
       "{'Drama': 2, 'Crime': 1, 'Action': 1, 'War': 1}"
      ]
     },
     "execution_count": 14,
     "metadata": {},
     "output_type": "execute_result"
    }
   ],
   "source": [
    "dict2 = {}\n",
    "for i in genres_2:\n",
    "    if i not in dict2:\n",
    "        dict2[i] = 1\n",
    "    else:\n",
    "        dict2[i] = dict2[i] + 1\n",
    "dict2"
   ]
  },
  {
   "cell_type": "markdown",
   "id": "6934df00",
   "metadata": {},
   "source": [
    "## How do we make the numbers align?"
   ]
  },
  {
   "cell_type": "code",
   "execution_count": 23,
   "id": "92fd8d97",
   "metadata": {},
   "outputs": [],
   "source": [
    "dict_common = {}\n",
    "for i in common_genres:\n",
    "    dict_common[i] = 0"
   ]
  },
  {
   "cell_type": "code",
   "execution_count": 24,
   "id": "20baac02",
   "metadata": {},
   "outputs": [
    {
     "data": {
      "text/plain": [
       "{'Drama': 0, 'War': 0, 'Crime': 0, 'Action': 0, 'Disaster': 0}"
      ]
     },
     "execution_count": 24,
     "metadata": {},
     "output_type": "execute_result"
    }
   ],
   "source": [
    "dict_common"
   ]
  },
  {
   "cell_type": "code",
   "execution_count": 51,
   "id": "52d7e49f",
   "metadata": {},
   "outputs": [],
   "source": [
    "dict_common.update(dict1)"
   ]
  },
  {
   "cell_type": "code",
   "execution_count": 52,
   "id": "bcda7695",
   "metadata": {},
   "outputs": [
    {
     "name": "stdout",
     "output_type": "stream",
     "text": [
      "{'Drama': 2, 'War': 2, 'Crime': 0, 'Action': 1, 'Disaster': 1}\n"
     ]
    }
   ],
   "source": [
    "print(dict_common)"
   ]
  },
  {
   "cell_type": "code",
   "execution_count": 28,
   "id": "b9342452",
   "metadata": {},
   "outputs": [
    {
     "data": {
      "text/plain": [
       "{'Drama': 2, 'War': 1, 'Crime': 1, 'Action': 1, 'Disaster': 0}"
      ]
     },
     "execution_count": 28,
     "metadata": {},
     "output_type": "execute_result"
    }
   ],
   "source": [
    "dict_common2 = {}\n",
    "for i in common_genres:\n",
    "    dict_common2[i] = 0\n",
    "dict_common2.update(dict2)\n",
    "dict_common2"
   ]
  },
  {
   "cell_type": "markdown",
   "id": "07c5d3f9",
   "metadata": {},
   "source": [
    "## How to calculate cosine similarity (without using any 3-rd party library)"
   ]
  },
  {
   "cell_type": "code",
   "execution_count": 29,
   "id": "996110b2",
   "metadata": {},
   "outputs": [],
   "source": [
    "x = [3, 2, 0, 5]\n",
    "y = [1, 0, 0, 0]"
   ]
  },
  {
   "cell_type": "markdown",
   "id": "b6e25d4b",
   "metadata": {},
   "source": [
    "### Numerator = cross product of x and y\n",
    "### numerator = 3\\*1 + 2\\*0 + 0\\*0 + 5\\*0"
   ]
  },
  {
   "cell_type": "code",
   "execution_count": 48,
   "id": "cee99e94",
   "metadata": {},
   "outputs": [
    {
     "data": {
      "text/plain": [
       "3"
      ]
     },
     "execution_count": 48,
     "metadata": {},
     "output_type": "execute_result"
    }
   ],
   "source": [
    "numerator = 0\n",
    "for i in range(len(x)):\n",
    "    numerator = numerator + x[i]*y[i]\n",
    "numerator"
   ]
  },
  {
   "cell_type": "markdown",
   "id": "1c777501",
   "metadata": {},
   "source": [
    "### Denominator = sum of squared x and y, then multiply\n",
    "### sq_x = (3)^2 + (2)^2 + (0)^2 + (5)^2 = 38, then take square root = 6.16\n",
    "\n",
    "### sq_y = (1)^2 + (0)^2 + (0)^2 + (0)^2 = 1, then take square root  = 1\n",
    "\n",
    "### Denominator = 6.16\\*1"
   ]
  },
  {
   "cell_type": "code",
   "execution_count": 31,
   "id": "b5029de5",
   "metadata": {},
   "outputs": [
    {
     "data": {
      "text/plain": [
       "38"
      ]
     },
     "execution_count": 31,
     "metadata": {},
     "output_type": "execute_result"
    }
   ],
   "source": [
    "sum_x = 0\n",
    "for i in x:\n",
    "    sum_x = sum_x + i**2\n",
    "sum_x"
   ]
  },
  {
   "cell_type": "code",
   "execution_count": 32,
   "id": "b6f78571",
   "metadata": {},
   "outputs": [
    {
     "data": {
      "text/plain": [
       "6.164414002968976"
      ]
     },
     "execution_count": 32,
     "metadata": {},
     "output_type": "execute_result"
    }
   ],
   "source": [
    "sq_x = sum_x**0.5\n",
    "sq_x"
   ]
  },
  {
   "cell_type": "code",
   "execution_count": 33,
   "id": "dcff7a7e",
   "metadata": {},
   "outputs": [],
   "source": [
    "sq_y = 1"
   ]
  },
  {
   "cell_type": "code",
   "execution_count": 34,
   "id": "7e1ca2b8",
   "metadata": {},
   "outputs": [],
   "source": [
    "demoninator = sq_x*sq_y"
   ]
  },
  {
   "cell_type": "code",
   "execution_count": 35,
   "id": "1e927f2c",
   "metadata": {},
   "outputs": [
    {
     "data": {
      "text/plain": [
       "6.164414002968976"
      ]
     },
     "execution_count": 35,
     "metadata": {},
     "output_type": "execute_result"
    }
   ],
   "source": [
    "demoninator"
   ]
  },
  {
   "cell_type": "code",
   "execution_count": 36,
   "id": "2d5183d6",
   "metadata": {},
   "outputs": [],
   "source": [
    "distance = sum/demoninator"
   ]
  },
  {
   "cell_type": "code",
   "execution_count": 37,
   "id": "4cfd83cc",
   "metadata": {},
   "outputs": [],
   "source": [
    "similarity = 1 - distance"
   ]
  },
  {
   "cell_type": "code",
   "execution_count": 38,
   "id": "e340c4df",
   "metadata": {},
   "outputs": [
    {
     "data": {
      "text/plain": [
       "0.5133357366077124"
      ]
     },
     "execution_count": 38,
     "metadata": {},
     "output_type": "execute_result"
    }
   ],
   "source": [
    "similarity"
   ]
  },
  {
   "cell_type": "markdown",
   "id": "8ed1e775",
   "metadata": {},
   "source": [
    "# Supposedly you use the OOP method"
   ]
  },
  {
   "cell_type": "code",
   "execution_count": 39,
   "id": "54a6e7b1",
   "metadata": {},
   "outputs": [],
   "source": [
    "class Movies:    \n",
    "    def __init__(self, name, director, genre): \n",
    "        self.name = name\n",
    "        self.director = director\n",
    "        self.genre = genre"
   ]
  },
  {
   "cell_type": "code",
   "execution_count": 40,
   "id": "8d30fb12",
   "metadata": {},
   "outputs": [],
   "source": [
    "all_movies = []\n",
    "movie = Movies('The Godfather', ['Francis Coppola','Michael Bay'], ['Drama', 'Crime'])\n",
    "all_movies.append(movie)"
   ]
  },
  {
   "cell_type": "code",
   "execution_count": 41,
   "id": "19bb0d60",
   "metadata": {},
   "outputs": [],
   "source": [
    "movie = Movies('Saving Private Ryan', ['Steven Spielberg', 'Michael Bay'], ['Action', 'War', 'Drama'])\n",
    "all_movies.append(movie)"
   ]
  },
  {
   "cell_type": "code",
   "execution_count": 42,
   "id": "163efba4",
   "metadata": {},
   "outputs": [],
   "source": [
    "movie = Movies(\"Schindler's List\", ['Steven Spielberg', 'Francis Coppola'], ['Disaster', 'War', 'Drama'])\n",
    "all_movies.append(movie)"
   ]
  },
  {
   "cell_type": "code",
   "execution_count": 43,
   "id": "5a29c820",
   "metadata": {},
   "outputs": [],
   "source": [
    "director1 = 'Steven Spielberg'\n",
    "director2 = 'Michael Bay'"
   ]
  },
  {
   "cell_type": "code",
   "execution_count": 45,
   "id": "3c138f0a",
   "metadata": {},
   "outputs": [],
   "source": [
    "directed_movies = []\n",
    "directed_genres = []\n",
    "for i in all_movies:\n",
    "    if director1 in i.director:\n",
    "        directed_movies.append(i.name)\n",
    "        directed_genres.extend(i.genre)"
   ]
  },
  {
   "cell_type": "code",
   "execution_count": 46,
   "id": "b6cca0a2",
   "metadata": {},
   "outputs": [
    {
     "data": {
      "text/plain": [
       "['Saving Private Ryan', \"Schindler's List\"]"
      ]
     },
     "execution_count": 46,
     "metadata": {},
     "output_type": "execute_result"
    }
   ],
   "source": [
    "directed_movies"
   ]
  },
  {
   "cell_type": "code",
   "execution_count": 47,
   "id": "74ebb2c3",
   "metadata": {},
   "outputs": [
    {
     "data": {
      "text/plain": [
       "['Action', 'War', 'Drama', 'Disaster', 'War', 'Drama']"
      ]
     },
     "execution_count": 47,
     "metadata": {},
     "output_type": "execute_result"
    }
   ],
   "source": [
    "directed_genres"
   ]
  },
  {
   "cell_type": "code",
   "execution_count": null,
   "id": "a5e4e80f",
   "metadata": {},
   "outputs": [],
   "source": []
  }
 ],
 "metadata": {
  "kernelspec": {
   "display_name": "Python 3 (ipykernel)",
   "language": "python",
   "name": "python3"
  },
  "language_info": {
   "codemirror_mode": {
    "name": "ipython",
    "version": 3
   },
   "file_extension": ".py",
   "mimetype": "text/x-python",
   "name": "python",
   "nbconvert_exporter": "python",
   "pygments_lexer": "ipython3",
   "version": "3.9.12"
  }
 },
 "nbformat": 4,
 "nbformat_minor": 5
}
