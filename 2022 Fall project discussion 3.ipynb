{
 "cells": [
  {
   "cell_type": "code",
   "execution_count": 2,
   "id": "86e7aa24",
   "metadata": {},
   "outputs": [
    {
     "data": {
      "text/plain": [
       "500"
      ]
     },
     "execution_count": 2,
     "metadata": {},
     "output_type": "execute_result"
    }
   ],
   "source": [
    "import urllib.request, urllib.parse, urllib.error\n",
    "from bs4 import BeautifulSoup\n",
    "import urllib.request\n",
    "\n",
    "headers = {'User-Agent': 'Mozilla/5.0 (Macintosh; Intel Mac OS X 10_13_6) AppleWebKit/537.36 (KHTML, like Gecko) Chrome/70.0.3538.77 Safari/537.36'}\n",
    "\n",
    "all_links = []\n",
    "for i in range(5):\n",
    "    req = urllib.request.Request('https://www.metacritic.com/browse/movies/score/metascore/all/filtered?sort=desc&page='+str(i), headers = headers)\n",
    "    fhand = urllib.request.urlopen(req)\n",
    "    soup = BeautifulSoup(fhand, 'html.parser') \n",
    "    hyperlinks = soup.find_all('a', attrs = {'class':'title'})\n",
    "    all_links.extend(hyperlinks)\n",
    "len(all_links)"
   ]
  },
  {
   "cell_type": "code",
   "execution_count": 3,
   "id": "880c419d",
   "metadata": {},
   "outputs": [
    {
     "data": {
      "text/plain": [
       "[<a class=\"title\" href=\"/movie/the-innocents\"><h3>The Innocents</h3></a>,\n",
       " <a class=\"title\" href=\"/movie/inside-job\"><h3>Inside Job</h3></a>,\n",
       " <a class=\"title\" href=\"/movie/sweet-country\"><h3>Sweet Country</h3></a>,\n",
       " <a class=\"title\" href=\"/movie/leave-no-trace\"><h3>Leave No Trace</h3></a>,\n",
       " <a class=\"title\" href=\"/movie/three-colors-white\"><h3>Three Colors: White</h3></a>,\n",
       " <a class=\"title\" href=\"/movie/chicken-run\"><h3>Chicken Run</h3></a>,\n",
       " <a class=\"title\" href=\"/movie/the-kings-speech\"><h3>The King's Speech</h3></a>,\n",
       " <a class=\"title\" href=\"/movie/parallel-mothers\"><h3>Parallel Mothers</h3></a>,\n",
       " <a class=\"title\" href=\"/movie/hell-or-high-water\"><h3>Hell or High Water</h3></a>,\n",
       " <a class=\"title\" href=\"/movie/up\"><h3>Up</h3></a>,\n",
       " <a class=\"title\" href=\"/movie/shirkers\"><h3>Shirkers</h3></a>,\n",
       " <a class=\"title\" href=\"/movie/mildred-pierce\"><h3>Mildred Pierce</h3></a>,\n",
       " <a class=\"title\" href=\"/movie/45365\"><h3>45365</h3></a>,\n",
       " <a class=\"title\" href=\"/movie/tootsie\"><h3>Tootsie</h3></a>,\n",
       " <a class=\"title\" href=\"/movie/marooned-in-iraq\"><h3>Marooned in Iraq</h3></a>,\n",
       " <a class=\"title\" href=\"/movie/to-kill-a-mockingbird\"><h3>To Kill a Mockingbird</h3></a>,\n",
       " <a class=\"title\" href=\"/movie/descendant\"><h3>Descendant</h3></a>,\n",
       " <a class=\"title\" href=\"/movie/aquarius\"><h3>Aquarius</h3></a>,\n",
       " <a class=\"title\" href=\"/movie/so-long-my-son\"><h3>So Long, My Son</h3></a>,\n",
       " <a class=\"title\" href=\"/movie/apollo-11\"><h3>Apollo 11</h3></a>,\n",
       " <a class=\"title\" href=\"/movie/anomalisa\"><h3>Anomalisa</h3></a>,\n",
       " <a class=\"title\" href=\"/movie/toy-story-2\"><h3>Toy Story 2</h3></a>,\n",
       " <a class=\"title\" href=\"/movie/black-panther\"><h3>Black Panther</h3></a>,\n",
       " <a class=\"title\" href=\"/movie/the-human-voice\"><h3>The Human Voice</h3></a>,\n",
       " <a class=\"title\" href=\"/movie/brooklyn\"><h3>Brooklyn</h3></a>,\n",
       " <a class=\"title\" href=\"/movie/nobody-knows\"><h3>Nobody Knows</h3></a>,\n",
       " <a class=\"title\" href=\"/movie/life-is-sweet\"><h3>Life Is Sweet</h3></a>,\n",
       " <a class=\"title\" href=\"/movie/faces\"><h3>Faces</h3></a>,\n",
       " <a class=\"title\" href=\"/movie/mary-poppins\"><h3>Mary Poppins</h3></a>,\n",
       " <a class=\"title\" href=\"/movie/the-lord-of-the-rings-the-two-towers\"><h3>The Lord of the Rings: The Two Towers</h3></a>,\n",
       " <a class=\"title\" href=\"/movie/lenfant\"><h3>L'Enfant (The Child)</h3></a>,\n",
       " <a class=\"title\" href=\"/movie/jane-fonda-in-five-acts\"><h3>Jane Fonda in Five Acts</h3></a>,\n",
       " <a class=\"title\" href=\"/movie/the-conversation\"><h3>The Conversation</h3></a>,\n",
       " <a class=\"title\" href=\"/movie/good-morning\"><h3>Good Morning</h3></a>,\n",
       " <a class=\"title\" href=\"/movie/newtown\"><h3>Newtown</h3></a>,\n",
       " <a class=\"title\" href=\"/movie/poetry\"><h3>Poetry</h3></a>,\n",
       " <a class=\"title\" href=\"/movie/restless-creature-wendy-whelan\"><h3>Restless Creature: Wendy Whelan</h3></a>,\n",
       " <a class=\"title\" href=\"/movie/birdman\"><h3>Birdman or (The Unexpected Virtue of Ignorance)</h3></a>,\n",
       " <a class=\"title\" href=\"/movie/little-women\"><h3>Little Women</h3></a>,\n",
       " <a class=\"title\" href=\"/movie/aftershock-2022\"><h3>Aftershock</h3></a>,\n",
       " <a class=\"title\" href=\"/movie/shakespeare-in-love\"><h3>Shakespeare in Love</h3></a>,\n",
       " <a class=\"title\" href=\"/movie/the-awful-truth\"><h3>The Awful Truth</h3></a>,\n",
       " <a class=\"title\" href=\"/movie/can-you-ever-forgive-me\"><h3>Can You Ever Forgive Me?</h3></a>,\n",
       " <a class=\"title\" href=\"/movie/wolfwalkers\"><h3>Wolfwalkers</h3></a>,\n",
       " <a class=\"title\" href=\"/movie/it-happened-one-night\"><h3>It Happened One Night</h3></a>,\n",
       " <a class=\"title\" href=\"/movie/the-body-remembers-when-the-world-broke-open\"><h3>The Body Remembers When the World Broke Open</h3></a>,\n",
       " <a class=\"title\" href=\"/movie/the-missing-picture\"><h3>The Missing Picture</h3></a>,\n",
       " <a class=\"title\" href=\"/movie/i-travel-because-i-have-to-i-come-back-because-i-love-you\"><h3>I Travel Because I Have to, I Come Back Because I Love You</h3></a>,\n",
       " <a class=\"title\" href=\"/movie/the-invisible-man-1933\"><h3>The Invisible Man</h3></a>,\n",
       " <a class=\"title\" href=\"/movie/scarface-1932\"><h3>Scarface</h3></a>,\n",
       " <a class=\"title\" href=\"/movie/of-men-and-war\"><h3>Of Men and War</h3></a>,\n",
       " <a class=\"title\" href=\"/movie/the-long-goodbye\"><h3>The Long Goodbye</h3></a>,\n",
       " <a class=\"title\" href=\"/movie/she-wore-a-yellow-ribbon\"><h3>She Wore a Yellow Ribbon</h3></a>,\n",
       " <a class=\"title\" href=\"/movie/imitation-of-life\"><h3>Imitation of Life</h3></a>,\n",
       " <a class=\"title\" href=\"/movie/pain-and-glory\"><h3>Pain and Glory</h3></a>,\n",
       " <a class=\"title\" href=\"/movie/gencse-genesis\"><h3>Genèse (Genesis)</h3></a>,\n",
       " <a class=\"title\" href=\"/movie/the-farthest\"><h3>The Farthest</h3></a>,\n",
       " <a class=\"title\" href=\"/movie/gomorrah\"><h3>Gomorrah</h3></a>,\n",
       " <a class=\"title\" href=\"/movie/days\"><h3>Days</h3></a>,\n",
       " <a class=\"title\" href=\"/movie/who-we-are-a-chronicle-of-racism-in-america\"><h3>Who We Are: A Chronicle of Racism in America</h3></a>,\n",
       " <a class=\"title\" href=\"/movie/to-be-and-to-have\"><h3>To Be and to Have</h3></a>,\n",
       " <a class=\"title\" href=\"/movie/a-night-of-knowing-nothing\"><h3>A Night of Knowing Nothing</h3></a>,\n",
       " <a class=\"title\" href=\"/movie/halloween-1978\"><h3>Halloween</h3></a>,\n",
       " <a class=\"title\" href=\"/movie/eraserhead\"><h3>Eraserhead</h3></a>,\n",
       " <a class=\"title\" href=\"/movie/the-velvet-underground\"><h3>The Velvet Underground</h3></a>,\n",
       " <a class=\"title\" href=\"/movie/medium-cool\"><h3>Medium Cool</h3></a>,\n",
       " <a class=\"title\" href=\"/movie/attica\"><h3>Attica</h3></a>,\n",
       " <a class=\"title\" href=\"/movie/can-you-bring-it-bill-t-jones-and-d-man-in-the-waters\"><h3>Can You Bring It: Bill T. Jones and D-Man in the Waters</h3></a>,\n",
       " <a class=\"title\" href=\"/movie/alcarrss\"><h3>Alcarràs</h3></a>,\n",
       " <a class=\"title\" href=\"/movie/fire-at-sea\"><h3>Fire at Sea</h3></a>,\n",
       " <a class=\"title\" href=\"/movie/the-fugitive\"><h3>The Fugitive</h3></a>,\n",
       " <a class=\"title\" href=\"/movie/f-for-fake\"><h3>F for Fake</h3></a>,\n",
       " <a class=\"title\" href=\"/movie/about-elly\"><h3>About Elly (2009)</h3></a>,\n",
       " <a class=\"title\" href=\"/movie/the-bridge-on-the-river-kwai\"><h3>The Bridge on the River Kwai</h3></a>,\n",
       " <a class=\"title\" href=\"/movie/goldfinger\"><h3>Goldfinger</h3></a>,\n",
       " <a class=\"title\" href=\"/movie/ma-raineys-black-bottom\"><h3>Ma Rainey's Black Bottom</h3></a>,\n",
       " <a class=\"title\" href=\"/movie/one-false-move\"><h3>One False Move</h3></a>,\n",
       " <a class=\"title\" href=\"/movie/en-el-septimo-dia-on-the-seventh-day\"><h3>En el Séptimo Día (On the Seventh Day)</h3></a>,\n",
       " <a class=\"title\" href=\"/movie/jane\"><h3>Jane</h3></a>,\n",
       " <a class=\"title\" href=\"/movie/jaws\"><h3>Jaws</h3></a>,\n",
       " <a class=\"title\" href=\"/movie/we-are-the-best\"><h3>We Are the Best!</h3></a>,\n",
       " <a class=\"title\" href=\"/movie/spartacus\"><h3>Spartacus</h3></a>,\n",
       " <a class=\"title\" href=\"/movie/education\"><h3>Small Axe: Education</h3></a>,\n",
       " <a class=\"title\" href=\"/movie/about-endlessness\"><h3>About Endlessness</h3></a>,\n",
       " <a class=\"title\" href=\"/movie/back-to-the-future\"><h3>Back to the Future</h3></a>,\n",
       " <a class=\"title\" href=\"/movie/hope\"><h3>Hope</h3></a>,\n",
       " <a class=\"title\" href=\"/movie/if-beale-street-could-talk\"><h3>If Beale Street Could Talk</h3></a>,\n",
       " <a class=\"title\" href=\"/movie/my-journey-through-french-cinema\"><h3>My Journey Through French Cinema</h3></a>,\n",
       " <a class=\"title\" href=\"/movie/wallace-gromit-the-curse-of-the-were-rabbit\"><h3>Wallace &amp; Gromit: The Curse of the Were-Rabbit</h3></a>,\n",
       " <a class=\"title\" href=\"/movie/the-diary-of-a-teenage-girl\"><h3>The Diary of a Teenage Girl</h3></a>,\n",
       " <a class=\"title\" href=\"/movie/elena\"><h3>Elena</h3></a>,\n",
       " <a class=\"title\" href=\"/movie/all-is-lost\"><h3>All Is Lost</h3></a>,\n",
       " <a class=\"title\" href=\"/movie/hereditary\"><h3>Hereditary</h3></a>,\n",
       " <a class=\"title\" href=\"/movie/listen-to-me-marlon\"><h3>Listen to Me Marlon</h3></a>,\n",
       " <a class=\"title\" href=\"/movie/gideons-army\"><h3>Gideon's Army</h3></a>,\n",
       " <a class=\"title\" href=\"/movie/odd-man-out\"><h3>Odd Man Out</h3></a>,\n",
       " <a class=\"title\" href=\"/movie/maria-full-of-grace\"><h3>Maria Full of Grace</h3></a>,\n",
       " <a class=\"title\" href=\"/movie/fateless\"><h3>Fateless</h3></a>,\n",
       " <a class=\"title\" href=\"/movie/happy-as-lazzaro\"><h3>Happy as Lazzaro</h3></a>,\n",
       " <a class=\"title\" href=\"/movie/the-fog-of-war-eleven-lessons-from-the-life-of-robert-s-mcnamara\"><h3>The Fog of War: Eleven Lessons from the Life of Robert S. McNamara</h3></a>]"
      ]
     },
     "execution_count": 3,
     "metadata": {},
     "output_type": "execute_result"
    }
   ],
   "source": [
    "hyperlinks"
   ]
  },
  {
   "cell_type": "code",
   "execution_count": 4,
   "id": "a266936c",
   "metadata": {
    "scrolled": false
   },
   "outputs": [
    {
     "data": {
      "text/plain": [
       "['https://www.metacritic.com/movie/the-godfather',\n",
       " 'https://www.metacritic.com/movie/citizen-kane',\n",
       " 'https://www.metacritic.com/movie/rear-window',\n",
       " 'https://www.metacritic.com/movie/casablanca',\n",
       " 'https://www.metacritic.com/movie/boyhood']"
      ]
     },
     "execution_count": 4,
     "metadata": {},
     "output_type": "execute_result"
    }
   ],
   "source": [
    "all_urls = []\n",
    "for i in all_links:\n",
    "    all_urls.append('https://www.metacritic.com' + i.get('href'))\n",
    "all_urls[:5]"
   ]
  },
  {
   "cell_type": "code",
   "execution_count": 5,
   "id": "6be6cfbc",
   "metadata": {},
   "outputs": [],
   "source": [
    "#there is an easy way for us to get the movie title\n",
    "#since it is already in the hyperlinks we extracted\n",
    "titles = []\n",
    "for i in all_links:\n",
    "    titles.append(i.get_text())    "
   ]
  },
  {
   "cell_type": "code",
   "execution_count": 6,
   "id": "2d216262",
   "metadata": {},
   "outputs": [
    {
     "data": {
      "text/plain": [
       "500"
      ]
     },
     "execution_count": 6,
     "metadata": {},
     "output_type": "execute_result"
    }
   ],
   "source": [
    "len(titles)"
   ]
  },
  {
   "cell_type": "code",
   "execution_count": 6,
   "id": "998177df",
   "metadata": {},
   "outputs": [
    {
     "data": {
      "text/plain": [
       "['The Godfather',\n",
       " 'Citizen Kane',\n",
       " 'Rear Window',\n",
       " 'Casablanca',\n",
       " 'Boyhood',\n",
       " 'Three Colors: Red',\n",
       " 'Vertigo',\n",
       " 'Notorious',\n",
       " \"Singin' in the Rain\",\n",
       " 'City Lights']"
      ]
     },
     "execution_count": 6,
     "metadata": {},
     "output_type": "execute_result"
    }
   ],
   "source": [
    "titles[:10]"
   ]
  },
  {
   "cell_type": "code",
   "execution_count": 7,
   "id": "6c562bd0",
   "metadata": {},
   "outputs": [
    {
     "data": {
      "text/plain": [
       "497"
      ]
     },
     "execution_count": 7,
     "metadata": {},
     "output_type": "execute_result"
    }
   ],
   "source": [
    "#are there movies with the same names? how do we quickly check?\n",
    "titles_set = set(titles)\n",
    "len(titles_set) #looks like we have lost some movies when converted to set"
   ]
  },
  {
   "cell_type": "markdown",
   "id": "02b812a0",
   "metadata": {},
   "source": [
    "## So we will need to find the movie title elsewhere\n",
    "## The name+year should be unique"
   ]
  },
  {
   "cell_type": "code",
   "execution_count": 3,
   "id": "56fcf682",
   "metadata": {},
   "outputs": [],
   "source": [
    "req = urllib.request.Request('https://www.metacritic.com/movie/the-fog-of-war-eleven-lessons-from-the-life-of-robert-s-mcnamara', headers = headers)\n",
    "fhand = urllib.request.urlopen(req)\n",
    "soup = BeautifulSoup(fhand, 'html.parser') \n",
    "title = soup.find_all('div', attrs = {'class':'product_page_title oswald'})"
   ]
  },
  {
   "cell_type": "code",
   "execution_count": 9,
   "id": "99dd89c6",
   "metadata": {},
   "outputs": [
    {
     "ename": "IndentationError",
     "evalue": "unindent does not match any outer indentation level (<tokenize>, line 4)",
     "output_type": "error",
     "traceback": [
      "\u001b[1;36m  File \u001b[1;32m<tokenize>:4\u001b[1;36m\u001b[0m\n\u001b[1;33m    </div>\u001b[0m\n\u001b[1;37m    ^\u001b[0m\n\u001b[1;31mIndentationError\u001b[0m\u001b[1;31m:\u001b[0m unindent does not match any outer indentation level\n"
     ]
    }
   ],
   "source": [
    "<div class=\"product_page_title oswald\">\n",
    "            <h1>The Godfather</h1>\n",
    "                    <span class=\"release_year lighter\">1972</span>\n",
    "    </div>"
   ]
  },
  {
   "cell_type": "code",
   "execution_count": 4,
   "id": "b5869d22",
   "metadata": {},
   "outputs": [
    {
     "data": {
      "text/plain": [
       "[<div class=\"product_page_title oswald\">\n",
       " <h1>The Fog of War: Eleven Lessons from the Life of Robert S. McNamara</h1>\n",
       " <span class=\"release_year lighter\">2003</span>\n",
       " </div>]"
      ]
     },
     "execution_count": 4,
     "metadata": {},
     "output_type": "execute_result"
    }
   ],
   "source": [
    "title"
   ]
  },
  {
   "cell_type": "code",
   "execution_count": 5,
   "id": "88574015",
   "metadata": {},
   "outputs": [
    {
     "data": {
      "text/plain": [
       "'The fog of war: eleven lessons from the life of robert s. mcnamara 2003'"
      ]
     },
     "execution_count": 5,
     "metadata": {},
     "output_type": "execute_result"
    }
   ],
   "source": [
    "name = title[0].get_text().strip().capitalize().replace('\\n', ' ')\n",
    "name"
   ]
  },
  {
   "cell_type": "code",
   "execution_count": 12,
   "id": "28c8ca29",
   "metadata": {},
   "outputs": [
    {
     "data": {
      "text/plain": [
       "'\\nThe Godfather\\n1972\\n'"
      ]
     },
     "execution_count": 12,
     "metadata": {},
     "output_type": "execute_result"
    }
   ],
   "source": [
    "name = title[0].get_text()\n",
    "name"
   ]
  },
  {
   "cell_type": "code",
   "execution_count": null,
   "id": "7eb1e842",
   "metadata": {},
   "outputs": [],
   "source": [
    "dict500 = {}\n",
    "for i in all_urls:\n",
    "    movie_name = get_name\n",
    "    directors = []\n",
    "    #get_directors\n",
    "    genres = []\n",
    "    #get genres\n",
    "    print(genres[2:])\n",
    "    sub_dict = {}\n",
    "    sub_dict[tuple(directors)] = genres[2:]\n",
    "    dict500[movie_name] = sub_dict"
   ]
  },
  {
   "cell_type": "code",
   "execution_count": null,
   "id": "ad4bd1ba",
   "metadata": {},
   "outputs": [],
   "source": [
    "print(dict500)"
   ]
  },
  {
   "cell_type": "code",
   "execution_count": 16,
   "id": "bec393f8",
   "metadata": {},
   "outputs": [],
   "source": [
    "dict500 = {'The Godfather':{('Francis Coppola',):['Drama', 'Crime']}, \n",
    "           'Saving Private Ryan':{('Steven Spielberg', 'Michael Bay'):['Action', 'War', 'Drama']}}"
   ]
  },
  {
   "cell_type": "code",
   "execution_count": 17,
   "id": "ccbc75aa",
   "metadata": {},
   "outputs": [],
   "source": [
    "import csv\n",
    "\n",
    "fhandle = open('movies_myname.csv', mode='w') #line 1\n",
    "movie_writer = csv.writer(fhandle) #line 2\n",
    "for key1, value1 in dict500.items():\n",
    "    for key2, value2 in value1.items():            \n",
    "        movie_writer.writerow([key1, key2, value2])\n",
    "fhandle.close()"
   ]
  },
  {
   "cell_type": "code",
   "execution_count": 19,
   "id": "ab497265",
   "metadata": {},
   "outputs": [],
   "source": [
    "#no looking great. How do we make lists into a string?\n",
    "import csv\n",
    "fhandle = open('movies_myname.csv', mode='w') #line 1\n",
    "movie_writer = csv.writer(fhandle) #line 2\n",
    "for key1, value1 in dict500.items():\n",
    "    for key2, value2 in value1.items():            \n",
    "        movie_writer.writerow([key1, ', '.join(list(key2)), ', '.join(value2)])\n",
    "fhandle.close()"
   ]
  },
  {
   "cell_type": "code",
   "execution_count": 20,
   "id": "b1aa585e",
   "metadata": {},
   "outputs": [],
   "source": [
    "#there is a strange blank line in between\n",
    "import csv\n",
    "fhandle = open('Joshi_movies.csv', mode='w', newline = '') #line 1\n",
    "movie_writer = csv.writer(fhandle) #line 2\n",
    "for key1, value1 in dict500.items():\n",
    "    for key2, value2 in value1.items():            \n",
    "        movie_writer.writerow([key1, ', '.join(list(key2)), ', '.join(value2)])\n",
    "fhandle.close()"
   ]
  },
  {
   "cell_type": "markdown",
   "id": "01b86ca8",
   "metadata": {},
   "source": [
    "# If you wish to use the OOP method"
   ]
  },
  {
   "cell_type": "code",
   "execution_count": 21,
   "id": "3035ebff",
   "metadata": {},
   "outputs": [],
   "source": [
    "class Movies:    \n",
    "    def __init__(self, name, director, genre): \n",
    "        self.name = name\n",
    "        self.director = director\n",
    "        self.genre = genre"
   ]
  },
  {
   "cell_type": "code",
   "execution_count": null,
   "id": "54968290",
   "metadata": {},
   "outputs": [],
   "source": [
    "all_movies = []\n",
    "for i in all_urls:\n",
    "    movie_name = get_name\n",
    "    directors = []\n",
    "    #get_directors\n",
    "    genres = []\n",
    "    #get genres\n",
    "    print(genres[2:])\n",
    "    movie = Movies(movie_name, directors, genres[2:])\n",
    "    all_movies.append(movie)"
   ]
  },
  {
   "cell_type": "code",
   "execution_count": 22,
   "id": "565c8c8c",
   "metadata": {},
   "outputs": [],
   "source": [
    "all_movies = []\n",
    "movie = Movies('The Godfather', 'Francis Coppola', ['Drama', 'Crime'])\n",
    "all_movies.append(movie)"
   ]
  },
  {
   "cell_type": "code",
   "execution_count": 23,
   "id": "3668b8a9",
   "metadata": {},
   "outputs": [],
   "source": [
    "movie = Movies('Saving Private Ryan', ['Steven Spielberg', 'Michael Bay'], ['Action', 'War', 'Drama'])\n",
    "all_movies.append(movie)"
   ]
  },
  {
   "cell_type": "code",
   "execution_count": 24,
   "id": "e13a90e0",
   "metadata": {},
   "outputs": [],
   "source": [
    "import csv\n",
    "fhandle = open('movies_myname.csv', mode='w', newline = '') #line 1\n",
    "movie_writer = csv.writer(fhandle) #line 2\n",
    "for i in all_movies:\n",
    "    movie_writer.writerow([i.name, i.director, i.genre])\n",
    "fhandle.close()"
   ]
  },
  {
   "cell_type": "code",
   "execution_count": null,
   "id": "6e4f5eb7",
   "metadata": {},
   "outputs": [],
   "source": []
  }
 ],
 "metadata": {
  "kernelspec": {
   "display_name": "Python 3 (ipykernel)",
   "language": "python",
   "name": "python3"
  },
  "language_info": {
   "codemirror_mode": {
    "name": "ipython",
    "version": 3
   },
   "file_extension": ".py",
   "mimetype": "text/x-python",
   "name": "python",
   "nbconvert_exporter": "python",
   "pygments_lexer": "ipython3",
   "version": "3.9.12"
  }
 },
 "nbformat": 4,
 "nbformat_minor": 5
}
