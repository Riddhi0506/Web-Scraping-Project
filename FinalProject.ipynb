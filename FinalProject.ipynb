{
 "cells": [
  {
   "cell_type": "code",
   "execution_count": 29,
   "id": "23ad1178",
   "metadata": {},
   "outputs": [
    {
     "ename": "HTTPError",
     "evalue": "HTTP Error 429: Slow Down",
     "output_type": "error",
     "traceback": [
      "\u001b[1;31m---------------------------------------------------------------------------\u001b[0m",
      "\u001b[1;31mHTTPError\u001b[0m                                 Traceback (most recent call last)",
      "Input \u001b[1;32mIn [29]\u001b[0m, in \u001b[0;36m<cell line: 33>\u001b[1;34m()\u001b[0m\n\u001b[0;32m     33\u001b[0m \u001b[38;5;28;01mfor\u001b[39;00m i \u001b[38;5;129;01min\u001b[39;00m all_urls:\n\u001b[0;32m     34\u001b[0m     req \u001b[38;5;241m=\u001b[39m urllib\u001b[38;5;241m.\u001b[39mrequest\u001b[38;5;241m.\u001b[39mRequest(i, headers \u001b[38;5;241m=\u001b[39m headers)\n\u001b[1;32m---> 35\u001b[0m     fhand \u001b[38;5;241m=\u001b[39m \u001b[43murllib\u001b[49m\u001b[38;5;241;43m.\u001b[39;49m\u001b[43mrequest\u001b[49m\u001b[38;5;241;43m.\u001b[39;49m\u001b[43murlopen\u001b[49m\u001b[43m(\u001b[49m\u001b[43mreq\u001b[49m\u001b[43m)\u001b[49m\n\u001b[0;32m     36\u001b[0m     soup \u001b[38;5;241m=\u001b[39m BeautifulSoup(fhand, \u001b[38;5;124m'\u001b[39m\u001b[38;5;124mhtml.parser\u001b[39m\u001b[38;5;124m'\u001b[39m) \n\u001b[0;32m     38\u001b[0m     \u001b[38;5;66;03m##extracting movie name with year##\u001b[39;00m\n",
      "File \u001b[1;32m~\\Softwares\\Anaconda\\lib\\urllib\\request.py:214\u001b[0m, in \u001b[0;36murlopen\u001b[1;34m(url, data, timeout, cafile, capath, cadefault, context)\u001b[0m\n\u001b[0;32m    212\u001b[0m \u001b[38;5;28;01melse\u001b[39;00m:\n\u001b[0;32m    213\u001b[0m     opener \u001b[38;5;241m=\u001b[39m _opener\n\u001b[1;32m--> 214\u001b[0m \u001b[38;5;28;01mreturn\u001b[39;00m \u001b[43mopener\u001b[49m\u001b[38;5;241;43m.\u001b[39;49m\u001b[43mopen\u001b[49m\u001b[43m(\u001b[49m\u001b[43murl\u001b[49m\u001b[43m,\u001b[49m\u001b[43m \u001b[49m\u001b[43mdata\u001b[49m\u001b[43m,\u001b[49m\u001b[43m \u001b[49m\u001b[43mtimeout\u001b[49m\u001b[43m)\u001b[49m\n",
      "File \u001b[1;32m~\\Softwares\\Anaconda\\lib\\urllib\\request.py:523\u001b[0m, in \u001b[0;36mOpenerDirector.open\u001b[1;34m(self, fullurl, data, timeout)\u001b[0m\n\u001b[0;32m    521\u001b[0m \u001b[38;5;28;01mfor\u001b[39;00m processor \u001b[38;5;129;01min\u001b[39;00m \u001b[38;5;28mself\u001b[39m\u001b[38;5;241m.\u001b[39mprocess_response\u001b[38;5;241m.\u001b[39mget(protocol, []):\n\u001b[0;32m    522\u001b[0m     meth \u001b[38;5;241m=\u001b[39m \u001b[38;5;28mgetattr\u001b[39m(processor, meth_name)\n\u001b[1;32m--> 523\u001b[0m     response \u001b[38;5;241m=\u001b[39m \u001b[43mmeth\u001b[49m\u001b[43m(\u001b[49m\u001b[43mreq\u001b[49m\u001b[43m,\u001b[49m\u001b[43m \u001b[49m\u001b[43mresponse\u001b[49m\u001b[43m)\u001b[49m\n\u001b[0;32m    525\u001b[0m \u001b[38;5;28;01mreturn\u001b[39;00m response\n",
      "File \u001b[1;32m~\\Softwares\\Anaconda\\lib\\urllib\\request.py:632\u001b[0m, in \u001b[0;36mHTTPErrorProcessor.http_response\u001b[1;34m(self, request, response)\u001b[0m\n\u001b[0;32m    629\u001b[0m \u001b[38;5;66;03m# According to RFC 2616, \"2xx\" code indicates that the client's\u001b[39;00m\n\u001b[0;32m    630\u001b[0m \u001b[38;5;66;03m# request was successfully received, understood, and accepted.\u001b[39;00m\n\u001b[0;32m    631\u001b[0m \u001b[38;5;28;01mif\u001b[39;00m \u001b[38;5;129;01mnot\u001b[39;00m (\u001b[38;5;241m200\u001b[39m \u001b[38;5;241m<\u001b[39m\u001b[38;5;241m=\u001b[39m code \u001b[38;5;241m<\u001b[39m \u001b[38;5;241m300\u001b[39m):\n\u001b[1;32m--> 632\u001b[0m     response \u001b[38;5;241m=\u001b[39m \u001b[38;5;28;43mself\u001b[39;49m\u001b[38;5;241;43m.\u001b[39;49m\u001b[43mparent\u001b[49m\u001b[38;5;241;43m.\u001b[39;49m\u001b[43merror\u001b[49m\u001b[43m(\u001b[49m\n\u001b[0;32m    633\u001b[0m \u001b[43m        \u001b[49m\u001b[38;5;124;43m'\u001b[39;49m\u001b[38;5;124;43mhttp\u001b[39;49m\u001b[38;5;124;43m'\u001b[39;49m\u001b[43m,\u001b[49m\u001b[43m \u001b[49m\u001b[43mrequest\u001b[49m\u001b[43m,\u001b[49m\u001b[43m \u001b[49m\u001b[43mresponse\u001b[49m\u001b[43m,\u001b[49m\u001b[43m \u001b[49m\u001b[43mcode\u001b[49m\u001b[43m,\u001b[49m\u001b[43m \u001b[49m\u001b[43mmsg\u001b[49m\u001b[43m,\u001b[49m\u001b[43m \u001b[49m\u001b[43mhdrs\u001b[49m\u001b[43m)\u001b[49m\n\u001b[0;32m    635\u001b[0m \u001b[38;5;28;01mreturn\u001b[39;00m response\n",
      "File \u001b[1;32m~\\Softwares\\Anaconda\\lib\\urllib\\request.py:561\u001b[0m, in \u001b[0;36mOpenerDirector.error\u001b[1;34m(self, proto, *args)\u001b[0m\n\u001b[0;32m    559\u001b[0m \u001b[38;5;28;01mif\u001b[39;00m http_err:\n\u001b[0;32m    560\u001b[0m     args \u001b[38;5;241m=\u001b[39m (\u001b[38;5;28mdict\u001b[39m, \u001b[38;5;124m'\u001b[39m\u001b[38;5;124mdefault\u001b[39m\u001b[38;5;124m'\u001b[39m, \u001b[38;5;124m'\u001b[39m\u001b[38;5;124mhttp_error_default\u001b[39m\u001b[38;5;124m'\u001b[39m) \u001b[38;5;241m+\u001b[39m orig_args\n\u001b[1;32m--> 561\u001b[0m     \u001b[38;5;28;01mreturn\u001b[39;00m \u001b[38;5;28;43mself\u001b[39;49m\u001b[38;5;241;43m.\u001b[39;49m\u001b[43m_call_chain\u001b[49m\u001b[43m(\u001b[49m\u001b[38;5;241;43m*\u001b[39;49m\u001b[43margs\u001b[49m\u001b[43m)\u001b[49m\n",
      "File \u001b[1;32m~\\Softwares\\Anaconda\\lib\\urllib\\request.py:494\u001b[0m, in \u001b[0;36mOpenerDirector._call_chain\u001b[1;34m(self, chain, kind, meth_name, *args)\u001b[0m\n\u001b[0;32m    492\u001b[0m \u001b[38;5;28;01mfor\u001b[39;00m handler \u001b[38;5;129;01min\u001b[39;00m handlers:\n\u001b[0;32m    493\u001b[0m     func \u001b[38;5;241m=\u001b[39m \u001b[38;5;28mgetattr\u001b[39m(handler, meth_name)\n\u001b[1;32m--> 494\u001b[0m     result \u001b[38;5;241m=\u001b[39m \u001b[43mfunc\u001b[49m\u001b[43m(\u001b[49m\u001b[38;5;241;43m*\u001b[39;49m\u001b[43margs\u001b[49m\u001b[43m)\u001b[49m\n\u001b[0;32m    495\u001b[0m     \u001b[38;5;28;01mif\u001b[39;00m result \u001b[38;5;129;01mis\u001b[39;00m \u001b[38;5;129;01mnot\u001b[39;00m \u001b[38;5;28;01mNone\u001b[39;00m:\n\u001b[0;32m    496\u001b[0m         \u001b[38;5;28;01mreturn\u001b[39;00m result\n",
      "File \u001b[1;32m~\\Softwares\\Anaconda\\lib\\urllib\\request.py:641\u001b[0m, in \u001b[0;36mHTTPDefaultErrorHandler.http_error_default\u001b[1;34m(self, req, fp, code, msg, hdrs)\u001b[0m\n\u001b[0;32m    640\u001b[0m \u001b[38;5;28;01mdef\u001b[39;00m \u001b[38;5;21mhttp_error_default\u001b[39m(\u001b[38;5;28mself\u001b[39m, req, fp, code, msg, hdrs):\n\u001b[1;32m--> 641\u001b[0m     \u001b[38;5;28;01mraise\u001b[39;00m HTTPError(req\u001b[38;5;241m.\u001b[39mfull_url, code, msg, hdrs, fp)\n",
      "\u001b[1;31mHTTPError\u001b[0m: HTTP Error 429: Slow Down"
     ]
    }
   ],
   "source": [
    "import pandas as pd\n",
    "from bs4 import BeautifulSoup\n",
    "import requests\n",
    "import urllib.request, urllib.parse, urllib.error\n",
    "\n",
    "\n",
    "headers = {'User-Agent': 'Mozilla/5.0 (Macintosh; Intel Mac OS X 10_13_6) AppleWebKit/537.36 (KHTML, like Gecko) Chrome/70.0.3538.77 Safari/537.36'}\n",
    "all_links = []\n",
    "\n",
    "for i in range(5):\n",
    "    req = urllib.request.Request('https://www.metacritic.com/browse/movies/score/metascore/all/filtered?sort=desc&page='+str(i), headers = headers)\n",
    "    fhand = urllib.request.urlopen(req)\n",
    "    soup = BeautifulSoup(fhand, 'html.parser') \n",
    "    hyperlinks = soup.find_all('a', attrs = {'class':'title'})\n",
    "    all_links.extend(hyperlinks)\n",
    "#len(all_links)\n",
    "#print(all_links)\n",
    "\n",
    "\n",
    "##extracting only urls from the links collected##\n",
    "all_urls = []\n",
    "for i in all_links:\n",
    "    all_urls.append('https://www.metacritic.com' + i.get('href'))\n",
    "#print(all_urls)\n",
    "\n",
    "##all declarations##\n",
    "movie_name = []\n",
    "director_name = []\n",
    "genres = []\n",
    "dict500 = {}\n",
    "\n",
    "\n",
    "for i in all_urls:\n",
    "    req = urllib.request.Request(i, headers = headers)\n",
    "    fhand = urllib.request.urlopen(req)\n",
    "    soup = BeautifulSoup(fhand, 'html.parser') \n",
    "    \n",
    "    ##extracting movie name with year##\n",
    "    title = soup.find_all('div', attrs = {'class':'product_page_title oswald'})\n",
    "    name = title[0].get_text().strip().replace('\\n', ' ')\n",
    "    movie_name.append(name)\n",
    "    \n",
    "    ##extracting directors names##\n",
    "    director_div = soup.find('div', attrs = {'class':'director'})\n",
    "    director_link = director_div.find_all('a')\n",
    "    #print(director_link)\n",
    "    d=[]\n",
    "    for i in director_link:\n",
    "        d.append(i.get_text())\n",
    "    director_name.append(d) \n",
    "\n",
    "    \n",
    "#print(movie_name)\n",
    "print(director_name)\n",
    "    \n",
    "    ##extracting genres names##\n",
    "    \n",
    "    \n",
    "\n",
    "\n"
   ]
  },
  {
   "cell_type": "code",
   "execution_count": 38,
   "id": "9cdcdf7b",
   "metadata": {},
   "outputs": [
    {
     "name": "stdout",
     "output_type": "stream",
     "text": [
      "[['Fantasy', 'Romance', 'Animation', 'Family', 'Musical'], ['Drama', 'Thriller', 'Crime'], ['Drama', 'Mystery'], ['Mystery', 'Thriller'], ['Drama', 'Romance', 'War'], ['Drama']]\n"
     ]
    }
   ],
   "source": [
    "genre_name = []\n",
    "up = ['https://www.metacritic.com/movie/beauty-and-the-beast-1991','https://www.metacritic.com/movie/the-godfather', 'https://www.metacritic.com/movie/citizen-kane', 'https://www.metacritic.com/movie/rear-window', 'https://www.metacritic.com/movie/casablanca', 'https://www.metacritic.com/movie/boyhood']\n",
    "for i in up :\n",
    "    req = urllib.request.Request(i, headers = headers)\n",
    "    fhand = urllib.request.urlopen(req)\n",
    "    soup = BeautifulSoup(fhand, 'html.parser') \n",
    "    genres_div = soup.find('div', attrs = {'class':'genres'})\n",
    "    genres_list = genres_div.find_all('span')\n",
    "    genres = []\n",
    "    for i in genres_list:\n",
    "        genres.append(i.get_text())\n",
    "    gen = genres[2:]\n",
    "    genre_name.append(gen)\n",
    "\n",
    "print(genre_name)\n",
    "    \n",
    "    "
   ]
  },
  {
   "cell_type": "code",
   "execution_count": 31,
   "id": "af92f45a",
   "metadata": {},
   "outputs": [
    {
     "name": "stdout",
     "output_type": "stream",
     "text": [
      "[['Francis Ford Coppola'], ['Orson Welles'], ['Alfred Hitchcock'], ['Michael Curtiz'], ['Richard Linklater'], ['Krzysztof Kieslowski'], ['Alfred Hitchcock'], ['Alfred Hitchcock'], ['Gene Kelly', 'Stanley Donen'], ['Charles Chaplin'], ['Barry Jenkins'], ['D.W. Griffith'], ['Ben Sharpsteen', 'Bill Roberts', 'Hamilton Luske', 'Jack Kinney', 'Norman Ferguson', 'T. Hee', 'Wilfred Jackson'], ['Orson Welles'], ['Akira Kurosawa'], ['Robert Bresson'], ['Alfred Hitchcock'], ['John Huston'], ['Guillermo del Toro'], ['Billy Wilder'], ['Alfred Hitchcock'], ['Steve James'], ['Akira Kurosawa'], ['Joseph L. Mankiewicz'], ['François Truffaut'], ['Sam Peckinpah'], ['Jim Sheridan'], ['Carol Reed'], ['Stanley Kubrick'], ['Jasmila Zbanic'], ['Alfred Hitchcock'], ['George Cukor', 'Sam Wood', 'Victor Fleming'], ['Cristian Mungiu'], ['Sergei M. Eisenstein'], ['Elia Kazan'], ['John Huston'], ['George Lucas'], ['Ben Sharpsteen', 'Bill Roberts', 'Jack Kinney', 'John Elliotte', 'Norman Ferguson', 'Samuel Armstrong', 'Wilfred Jackson'], ['Alfonso Cuarón'], ['Dziga Vertov'], ['Joon-ho Bong'], ['Akira Kurosawa'], ['Ahmir-Khalib Thompson'], ['Ernst Lubitsch'], ['Sidney Lumet'], ['Roman Polanski'], ['Steve McQueen'], ['Kenneth Lonergan'], ['Charles Burnett'], ['Robert Altman'], ['Brad Bird'], ['John Ford'], ['Marcel Carné'], ['Martin Scorsese'], ['Kenji Mizoguchi'], ['Preston Sturges'], ['Alfonso Cuarón'], ['Ben Sharpsteen', 'Bill Roberts', 'David Hand', 'Ford Beebe Jr.', 'Hamilton Luske', 'James Algar', 'Jim Handley', 'Norman Ferguson', 'Paul Satterfield', 'Samuel Armstrong', 'T. Hee', 'Wilfred Jackson'], ['Hayao Miyazaki'], ['Gary Trousdale', 'Kirk Wise'], ['Steve McQueen'], ['John Lasseter'], ['James Whale'], ['Nicolas Roeg'], ['Charlotte Wells'], ['David Fincher'], ['George Cukor'], ['Céline Sciamma'], ['Raoul Peck'], ['Michael Wadleigh'], ['Sarah Gavron'], ['Ben Sharpsteen', 'David Hand', 'Larry Morey', 'Perce Pearce', 'Wilfred Jackson', 'William Cottrell'], ['Michael Haneke'], ['Kathryn Bigelow'], ['Otto Preminger'], ['Kathryn Bigelow'], ['Alexander Nanau'], ['Asghar Farhadi'], ['Billy Wilder'], ['Andrew Stanton'], ['Todd Haynes'], ['Richard Linklater'], ['Christopher Nolan'], ['John Ford'], ['John Ford'], ['Andrew Haigh'], ['Martin Scorsese'], ['Joseph Losey'], ['Quentin Tarantino'], ['John Frankenheimer'], ['Mike Leigh'], ['Martin Scorsese'], ['Alan Elliott', 'Sydney Pollack'], ['Isao Takahata'], ['François Truffaut'], ['Alfred Hitchcock'], ['Pete Docter', 'Ronaldo Del Carmen'], ['Alexander Payne'], ['Steven Spielberg'], ['Vincente Minnelli'], ['Billy Wilder'], ['Francis Ford Coppola'], ['Henry King'], ['Bill Weber', 'David Weissman'], ['Agnès Varda', 'JR'], ['Orson Welles'], ['Peter Jackson'], ['Luca Guadagnino'], ['Olivier Assayas'], ['Noah Baumbach'], ['William Friedkin'], ['Damien Chazelle'], ['Ang Lee'], ['Chantal Akerman'], ['Céline Sciamma'], ['Fred Fleck', 'Orson Welles', 'Robert Wise'], ['Barbet Schroeder'], ['Spike Lee'], ['Greta Gerwig'], ['Alice Diop'], ['Hirokazu Koreeda'], ['Claude Lanzmann'], ['Alfred Hitchcock'], ['Leo McCarey'], ['Terrence Malick'], ['Maren Ade'], ['Edward Yang'], ['Robert Altman'], ['Ethan Coen', 'Joel Coen'], ['William Wyler'], ['John Ford'], ['Jennifer Peedom'], ['Paul Thomas Anderson'], ['Terrence Malick'], ['Peter Bogdanovich'], ['Spike Lee'], ['Nina Paley'], ['Penelope Spheeris'], ['Akira Kurosawa'], ['Howard Hawks'], ['Bruce Sinofsky', 'Joe Berlinger'], ['Haile Gerima'], ['Terry Zwigoff'], ['Thomas McCarthy'], ['Vincente Minnelli'], ['Andrew Dominik'], ['Sam Peckinpah'], ['Julian Schnabel'], ['Don Siegel'], ['Maria Speth'], ['Laurent Cantet'], ['Oliver Stone'], ['Claire Denis'], ['Francis Ford Coppola'], ['Roman Polanski'], ['Sean Baker'], ['Abderrahmane Sissako'], ['Alfred Hitchcock'], ['David Lean'], ['Ethan Coen', 'Joel Coen'], ['Stuart Rosenberg'], ['George Cukor'], ['Hirokazu Koreeda'], ['Mark Sandrich'], ['Francis Ford Coppola'], ['Eliza Hittman'], ['Woody Allen'], ['Peter Jackson'], ['Robert Redford'], ['Andrei Zvyagintsev'], ['Ágnes Hranitzky', 'Béla Tarr'], ['Lee Unkrich'], ['Joanna Hogg'], ['Rob Reiner'], ['Joshua Oppenheimer'], ['Keith Maitland'], ['Ryûsuke Hamaguchi'], ['Ousmane Sembene'], ['Zacharias Kunuk'], ['Akira Kurosawa'], ['Garrett Bradley'], ['Rob Tregenza'], ['John Huston'], ['Chloé Zhao'], ['Stanley Kubrick'], ['George Stevens'], ['Peter Yates'], ['Hirokazu Koreeda'], ['László Nemes'], ['Leo McCarey'], ['James Whale'], ['Federico Fellini'], ['Greta Gerwig'], ['Steven Spielberg'], ['John Huston'], ['Sylvain Chomet'], ['Stephen Frears'], ['Jonas Poher Rasmussen'], ['Lewis Milestone'], ['Frederick Wiseman']]\n"
     ]
    }
   ],
   "source": [
    "director_name = []\n",
    "#up = ['https://www.metacritic.com/movie/beauty-and-the-beast-1991', 'https://www.metacritic.com/movie/the-godfather', 'https://www.metacritic.com/movie/citizen-kane', 'https://www.metacritic.com/movie/rear-window', 'https://www.metacritic.com/movie/casablanca', 'https://www.metacritic.com/movie/boyhood']\n",
    "import pandas as pd\n",
    "from bs4 import BeautifulSoup\n",
    "import requests\n",
    "import urllib.request, urllib.parse, urllib.error\n",
    "\n",
    "\n",
    "headers = {'User-Agent': 'Mozilla/5.0 (Macintosh; Intel Mac OS X 10_13_6) AppleWebKit/537.36 (KHTML, like Gecko) Chrome/70.0.3538.77 Safari/537.36'}\n",
    "all_links = []\n",
    "\n",
    "for i in range(2):\n",
    "    req = urllib.request.Request('https://www.metacritic.com/browse/movies/score/metascore/all/filtered?sort=desc&page='+str(i), headers = headers)\n",
    "    fhand = urllib.request.urlopen(req)\n",
    "    soup = BeautifulSoup(fhand, 'html.parser') \n",
    "    hyperlinks = soup.find_all('a', attrs = {'class':'title'})\n",
    "    all_links.extend(hyperlinks)\n",
    "#len(all_links)\n",
    "#print(all_links)\n",
    "\n",
    "\n",
    "##extracting only urls from the links collected##\n",
    "all_urls = []\n",
    "for i in all_links:\n",
    "    all_urls.append('https://www.metacritic.com' + i.get('href'))\n",
    "#print(all_urls)\n",
    "\n",
    "for i in all_urls :\n",
    "    req = urllib.request.Request(i, headers = headers)\n",
    "    fhand = urllib.request.urlopen(req)\n",
    "    soup = BeautifulSoup(fhand, 'html.parser') \n",
    "    director_div = soup.find('div', attrs = {'class':'director'})\n",
    "    director_link = director_div.find_all('a')\n",
    "    #print(director_link)\n",
    "    d=[]\n",
    "    for i in director_link:\n",
    "        d.append(i.get_text())\n",
    "    director_name.append(d) \n",
    "    \n",
    "print(director_name)"
   ]
  },
  {
   "cell_type": "code",
   "execution_count": null,
   "id": "1c0c1525",
   "metadata": {},
   "outputs": [],
   "source": []
  }
 ],
 "metadata": {
  "kernelspec": {
   "display_name": "Python 3 (ipykernel)",
   "language": "python",
   "name": "python3"
  },
  "language_info": {
   "codemirror_mode": {
    "name": "ipython",
    "version": 3
   },
   "file_extension": ".py",
   "mimetype": "text/x-python",
   "name": "python",
   "nbconvert_exporter": "python",
   "pygments_lexer": "ipython3",
   "version": "3.9.12"
  }
 },
 "nbformat": 4,
 "nbformat_minor": 5
}
