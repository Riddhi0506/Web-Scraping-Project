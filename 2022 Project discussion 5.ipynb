{
 "cells": [
  {
   "cell_type": "markdown",
   "id": "67f627ce",
   "metadata": {},
   "source": [
    "# Using pandas"
   ]
  },
  {
   "cell_type": "code",
   "execution_count": 15,
   "id": "708bfa1c",
   "metadata": {},
   "outputs": [],
   "source": [
    "import pandas as pd\n",
    "from bs4 import BeautifulSoup\n",
    "import requests\n",
    "import urllib.request"
   ]
  },
  {
   "cell_type": "code",
   "execution_count": 17,
   "id": "4c7d6d3d",
   "metadata": {},
   "outputs": [],
   "source": [
    "headers = {'User-Agent': 'Mozilla/5.0 (Macintosh; Intel Mac OS X 10_13_6) AppleWebKit/537.36 (KHTML, like Gecko) Chrome/70.0.3538.77 Safari/537.36'}"
   ]
  },
  {
   "cell_type": "code",
   "execution_count": 13,
   "id": "a266936c",
   "metadata": {
    "scrolled": false
   },
   "outputs": [],
   "source": [
    "#as an example with 5 movies\n",
    "all_urls = ['https://www.metacritic.com/movie/the-godfather',\n",
    " 'https://www.metacritic.com/movie/citizen-kane',\n",
    " 'https://www.metacritic.com/movie/rear-window',\n",
    " 'https://www.metacritic.com/movie/casablanca',\n",
    " 'https://www.metacritic.com/movie/boyhood']"
   ]
  },
  {
   "cell_type": "code",
   "execution_count": 18,
   "id": "7eb1e842",
   "metadata": {},
   "outputs": [
    {
     "name": "stdout",
     "output_type": "stream",
     "text": [
      "The Godfather\n",
      "1972\n",
      "['Francis Ford Coppola']\n",
      "['Drama', 'Thriller', 'Crime']\n",
      "Citizen Kane\n",
      "1941\n",
      "['Orson Welles']\n",
      "['Drama', 'Mystery']\n",
      "Rear Window\n",
      "1954\n",
      "['Alfred Hitchcock']\n",
      "['Mystery', 'Thriller']\n",
      "Casablanca\n",
      "1943\n",
      "['Michael Curtiz']\n",
      "['Drama', 'Romance', 'War']\n",
      "Boyhood\n",
      "2014\n",
      "['Richard Linklater']\n",
      "['Drama']\n"
     ]
    }
   ],
   "source": [
    "director_dict = {}\n",
    "genre_dict = {}\n",
    "for i in all_urls:\n",
    "    req = urllib.request.Request(i, headers = headers)\n",
    "    fhand = urllib.request.urlopen(req)\n",
    "    soup = BeautifulSoup(fhand, 'html.parser') \n",
    "    name_div = soup.find('div', attrs = {'class':'product_page_title oswald'})\n",
    "    name = name_div.get_text().strip()\n",
    "    print(name)\n",
    "    director_div = soup.find('div', attrs = {'class':'director'})\n",
    "    director_link = director_div.find_all('a')\n",
    "    directors = []\n",
    "    for i in director_link:\n",
    "        directors.append(i.get_text().strip())\n",
    "    print(directors)\n",
    "    genres_div = soup.find('div', attrs = {'class':'genres'})\n",
    "    genres_list = genres_div.find_all('span')\n",
    "    genres = []\n",
    "    for i in genres_list:\n",
    "        genres.append(i.get_text())\n",
    "    print(genres[2:])\n",
    "    director_dict[name] = directors\n",
    "    genre_dict[name] = genres[2:]"
   ]
  },
  {
   "cell_type": "code",
   "execution_count": 19,
   "id": "ad4bd1ba",
   "metadata": {},
   "outputs": [
    {
     "data": {
      "text/plain": [
       "{'The Godfather\\n1972': ['Francis Ford Coppola'],\n",
       " 'Citizen Kane\\n1941': ['Orson Welles'],\n",
       " 'Rear Window\\n1954': ['Alfred Hitchcock'],\n",
       " 'Casablanca\\n1943': ['Michael Curtiz'],\n",
       " 'Boyhood\\n2014': ['Richard Linklater']}"
      ]
     },
     "execution_count": 19,
     "metadata": {},
     "output_type": "execute_result"
    }
   ],
   "source": [
    "director_dict\n",
    "#remember to remove the \\n\n",
    "# remember to join the list into a string"
   ]
  },
  {
   "cell_type": "code",
   "execution_count": 20,
   "id": "1fb269b8",
   "metadata": {},
   "outputs": [
    {
     "data": {
      "text/plain": [
       "{'The Godfather\\n1972': ['Drama', 'Thriller', 'Crime'],\n",
       " 'Citizen Kane\\n1941': ['Drama', 'Mystery'],\n",
       " 'Rear Window\\n1954': ['Mystery', 'Thriller'],\n",
       " 'Casablanca\\n1943': ['Drama', 'Romance', 'War'],\n",
       " 'Boyhood\\n2014': ['Drama']}"
      ]
     },
     "execution_count": 20,
     "metadata": {},
     "output_type": "execute_result"
    }
   ],
   "source": [
    "genre_dict\n",
    "# remember to join the list into a string"
   ]
  },
  {
   "cell_type": "markdown",
   "id": "01b86ca8",
   "metadata": {},
   "source": [
    "# To put them into a pandas dataframe"
   ]
  },
  {
   "cell_type": "code",
   "execution_count": 1,
   "id": "d10e4917",
   "metadata": {},
   "outputs": [],
   "source": [
    "# assuming you have removed the \\n and joined the list into strings\n",
    "director_dict = {'The Godfather 1972': 'Francis Ford Coppola',\n",
    " 'Citizen Kane 1941': 'Orson Welles',\n",
    " 'Rear Window 1954': 'Alfred Hitchcock',\n",
    " 'Casablanca 1943': 'Michael Curtiz',\n",
    " 'Boyhood 2014': 'Richard Linklater'}"
   ]
  },
  {
   "cell_type": "code",
   "execution_count": 3,
   "id": "c99a764a",
   "metadata": {},
   "outputs": [],
   "source": [
    "genre_dict = {'The Godfather 1972': 'Drama, Thriller, Crime',\n",
    " 'Citizen Kane 1941': 'Drama, Mystery',\n",
    " 'Rear Window 1954': 'Mystery, Thriller',\n",
    " 'Casablanca 1943': 'Drama, Romance, War',\n",
    " 'Boyhood 2014': 'Drama'}"
   ]
  },
  {
   "cell_type": "code",
   "execution_count": 4,
   "id": "6e4f5eb7",
   "metadata": {},
   "outputs": [
    {
     "data": {
      "text/html": [
       "<div>\n",
       "<style scoped>\n",
       "    .dataframe tbody tr th:only-of-type {\n",
       "        vertical-align: middle;\n",
       "    }\n",
       "\n",
       "    .dataframe tbody tr th {\n",
       "        vertical-align: top;\n",
       "    }\n",
       "\n",
       "    .dataframe thead th {\n",
       "        text-align: right;\n",
       "    }\n",
       "</style>\n",
       "<table border=\"1\" class=\"dataframe\">\n",
       "  <thead>\n",
       "    <tr style=\"text-align: right;\">\n",
       "      <th></th>\n",
       "      <th>Director</th>\n",
       "      <th>Genres</th>\n",
       "    </tr>\n",
       "  </thead>\n",
       "  <tbody>\n",
       "    <tr>\n",
       "      <th>The Godfather 1972</th>\n",
       "      <td>Francis Ford Coppola</td>\n",
       "      <td>Drama, Thriller, Crime</td>\n",
       "    </tr>\n",
       "    <tr>\n",
       "      <th>Citizen Kane 1941</th>\n",
       "      <td>Orson Welles</td>\n",
       "      <td>Drama, Mystery</td>\n",
       "    </tr>\n",
       "    <tr>\n",
       "      <th>Rear Window 1954</th>\n",
       "      <td>Alfred Hitchcock</td>\n",
       "      <td>Mystery, Thriller</td>\n",
       "    </tr>\n",
       "    <tr>\n",
       "      <th>Casablanca 1943</th>\n",
       "      <td>Michael Curtiz</td>\n",
       "      <td>Drama, Romance, War</td>\n",
       "    </tr>\n",
       "    <tr>\n",
       "      <th>Boyhood 2014</th>\n",
       "      <td>Richard Linklater</td>\n",
       "      <td>Drama</td>\n",
       "    </tr>\n",
       "  </tbody>\n",
       "</table>\n",
       "</div>"
      ],
      "text/plain": [
       "                                Director                  Genres\n",
       "The Godfather 1972  Francis Ford Coppola  Drama, Thriller, Crime\n",
       "Citizen Kane 1941           Orson Welles          Drama, Mystery\n",
       "Rear Window 1954        Alfred Hitchcock       Mystery, Thriller\n",
       "Casablanca 1943           Michael Curtiz     Drama, Romance, War\n",
       "Boyhood 2014           Richard Linklater                   Drama"
      ]
     },
     "execution_count": 4,
     "metadata": {},
     "output_type": "execute_result"
    }
   ],
   "source": [
    "#use the dictionary method\n",
    "import pandas as pd\n",
    "movie_data = pd.DataFrame({'Director':director_dict, 'Genres':genre_dict})\n",
    "\n",
    "# a dictionary can be passed to DataFrame() to create a table\n",
    "# the key will become column names\n",
    "# the value will be filled into the column\n",
    "# the value is also a dictionary itself\n",
    "# the sub dictionary key will become index\n",
    "# the sub dictionary value will be filled into the column\n",
    "# pandas will try to match the index names\n",
    "\n",
    "movie_data"
   ]
  },
  {
   "cell_type": "code",
   "execution_count": 5,
   "id": "4feabcd8",
   "metadata": {},
   "outputs": [],
   "source": [
    "# so if there are unique elements in one disctionary\n",
    "# I am adding in 2 movies\n",
    "director_dict = {'The Godfather 1972': 'Francis Ford Coppola',\n",
    " 'Citizen Kane 1941': 'Orson Welles',\n",
    " 'Rear Window 1954': 'Alfred Hitchcock',\n",
    " 'Casablanca 1943': 'Michael Curtiz',\n",
    " 'Boyhood 2014': 'Richard Linklater',\n",
    " 'Transformer': 'Michael Bay',\n",
    " 'The Godfather2 1980': 'Francis Ford Coppola'}"
   ]
  },
  {
   "cell_type": "code",
   "execution_count": 27,
   "id": "8a26e0c6",
   "metadata": {},
   "outputs": [],
   "source": [
    "# and the sequence is randomized\n",
    "genre_dict = {'The Godfather 1972': 'Drama, Thriller, Crime',\n",
    "              'The Godfather2 1980': 'Drama, Thriller, Crime',\n",
    " 'Casablanca 1943': 'Drama, Romance, War',\n",
    " 'Citizen Kane 1941': 'Drama, Mystery',\n",
    " 'Rear Window 1954': 'Mystery, Thriller',\n",
    " 'Boyhood 2014': 'Drama'}"
   ]
  },
  {
   "cell_type": "code",
   "execution_count": 28,
   "id": "e1e6dc24",
   "metadata": {},
   "outputs": [
    {
     "data": {
      "text/html": [
       "<div>\n",
       "<style scoped>\n",
       "    .dataframe tbody tr th:only-of-type {\n",
       "        vertical-align: middle;\n",
       "    }\n",
       "\n",
       "    .dataframe tbody tr th {\n",
       "        vertical-align: top;\n",
       "    }\n",
       "\n",
       "    .dataframe thead th {\n",
       "        text-align: right;\n",
       "    }\n",
       "</style>\n",
       "<table border=\"1\" class=\"dataframe\">\n",
       "  <thead>\n",
       "    <tr style=\"text-align: right;\">\n",
       "      <th></th>\n",
       "      <th>Director</th>\n",
       "      <th>Genres</th>\n",
       "    </tr>\n",
       "  </thead>\n",
       "  <tbody>\n",
       "    <tr>\n",
       "      <th>The Godfather 1972</th>\n",
       "      <td>Francis Ford Coppola</td>\n",
       "      <td>Drama, Thriller, Crime</td>\n",
       "    </tr>\n",
       "    <tr>\n",
       "      <th>Citizen Kane 1941</th>\n",
       "      <td>Orson Welles</td>\n",
       "      <td>Drama, Mystery</td>\n",
       "    </tr>\n",
       "    <tr>\n",
       "      <th>Rear Window 1954</th>\n",
       "      <td>Alfred Hitchcock</td>\n",
       "      <td>Mystery, Thriller</td>\n",
       "    </tr>\n",
       "    <tr>\n",
       "      <th>Casablanca 1943</th>\n",
       "      <td>Michael Curtiz</td>\n",
       "      <td>Drama, Romance, War</td>\n",
       "    </tr>\n",
       "    <tr>\n",
       "      <th>Boyhood 2014</th>\n",
       "      <td>Richard Linklater</td>\n",
       "      <td>Drama</td>\n",
       "    </tr>\n",
       "    <tr>\n",
       "      <th>Transformer</th>\n",
       "      <td>Michael Bay</td>\n",
       "      <td>NaN</td>\n",
       "    </tr>\n",
       "    <tr>\n",
       "      <th>The Godfather2 1980</th>\n",
       "      <td>Francis Ford Coppola</td>\n",
       "      <td>Drama, Thriller, Crime</td>\n",
       "    </tr>\n",
       "  </tbody>\n",
       "</table>\n",
       "</div>"
      ],
      "text/plain": [
       "                                 Director                  Genres\n",
       "The Godfather 1972   Francis Ford Coppola  Drama, Thriller, Crime\n",
       "Citizen Kane 1941            Orson Welles          Drama, Mystery\n",
       "Rear Window 1954         Alfred Hitchcock       Mystery, Thriller\n",
       "Casablanca 1943            Michael Curtiz     Drama, Romance, War\n",
       "Boyhood 2014            Richard Linklater                   Drama\n",
       "Transformer                   Michael Bay                     NaN\n",
       "The Godfather2 1980  Francis Ford Coppola  Drama, Thriller, Crime"
      ]
     },
     "execution_count": 28,
     "metadata": {},
     "output_type": "execute_result"
    }
   ],
   "source": [
    "# it will still match up the index, and put null in missing values\n",
    "movie_data = pd.DataFrame({'Director':director_dict, 'Genres':genre_dict})\n",
    "movie_data"
   ]
  },
  {
   "cell_type": "code",
   "execution_count": 29,
   "id": "7975acc9",
   "metadata": {},
   "outputs": [
    {
     "data": {
      "text/plain": [
       "Index(['The Godfather 1972', 'Citizen Kane 1941', 'Rear Window 1954',\n",
       "       'Casablanca 1943', 'Boyhood 2014', 'Transformer',\n",
       "       'The Godfather2 1980'],\n",
       "      dtype='object')"
      ]
     },
     "execution_count": 29,
     "metadata": {},
     "output_type": "execute_result"
    }
   ],
   "source": [
    "movie_data.index"
   ]
  },
  {
   "cell_type": "code",
   "execution_count": 30,
   "id": "2cf43565",
   "metadata": {},
   "outputs": [],
   "source": [
    "# the index column does not have a name, we can give it a name\n",
    "movie_data.index.name = 'Name'"
   ]
  },
  {
   "cell_type": "code",
   "execution_count": 31,
   "id": "766a4763",
   "metadata": {},
   "outputs": [
    {
     "data": {
      "text/html": [
       "<div>\n",
       "<style scoped>\n",
       "    .dataframe tbody tr th:only-of-type {\n",
       "        vertical-align: middle;\n",
       "    }\n",
       "\n",
       "    .dataframe tbody tr th {\n",
       "        vertical-align: top;\n",
       "    }\n",
       "\n",
       "    .dataframe thead th {\n",
       "        text-align: right;\n",
       "    }\n",
       "</style>\n",
       "<table border=\"1\" class=\"dataframe\">\n",
       "  <thead>\n",
       "    <tr style=\"text-align: right;\">\n",
       "      <th></th>\n",
       "      <th>Director</th>\n",
       "      <th>Genres</th>\n",
       "    </tr>\n",
       "    <tr>\n",
       "      <th>Name</th>\n",
       "      <th></th>\n",
       "      <th></th>\n",
       "    </tr>\n",
       "  </thead>\n",
       "  <tbody>\n",
       "    <tr>\n",
       "      <th>The Godfather 1972</th>\n",
       "      <td>Francis Ford Coppola</td>\n",
       "      <td>Drama, Thriller, Crime</td>\n",
       "    </tr>\n",
       "    <tr>\n",
       "      <th>Citizen Kane 1941</th>\n",
       "      <td>Orson Welles</td>\n",
       "      <td>Drama, Mystery</td>\n",
       "    </tr>\n",
       "    <tr>\n",
       "      <th>Rear Window 1954</th>\n",
       "      <td>Alfred Hitchcock</td>\n",
       "      <td>Mystery, Thriller</td>\n",
       "    </tr>\n",
       "    <tr>\n",
       "      <th>Casablanca 1943</th>\n",
       "      <td>Michael Curtiz</td>\n",
       "      <td>Drama, Romance, War</td>\n",
       "    </tr>\n",
       "    <tr>\n",
       "      <th>Boyhood 2014</th>\n",
       "      <td>Richard Linklater</td>\n",
       "      <td>Drama</td>\n",
       "    </tr>\n",
       "    <tr>\n",
       "      <th>Transformer</th>\n",
       "      <td>Michael Bay</td>\n",
       "      <td>NaN</td>\n",
       "    </tr>\n",
       "    <tr>\n",
       "      <th>The Godfather2 1980</th>\n",
       "      <td>Francis Ford Coppola</td>\n",
       "      <td>Drama, Thriller, Crime</td>\n",
       "    </tr>\n",
       "  </tbody>\n",
       "</table>\n",
       "</div>"
      ],
      "text/plain": [
       "                                 Director                  Genres\n",
       "Name                                                             \n",
       "The Godfather 1972   Francis Ford Coppola  Drama, Thriller, Crime\n",
       "Citizen Kane 1941            Orson Welles          Drama, Mystery\n",
       "Rear Window 1954         Alfred Hitchcock       Mystery, Thriller\n",
       "Casablanca 1943            Michael Curtiz     Drama, Romance, War\n",
       "Boyhood 2014            Richard Linklater                   Drama\n",
       "Transformer                   Michael Bay                     NaN\n",
       "The Godfather2 1980  Francis Ford Coppola  Drama, Thriller, Crime"
      ]
     },
     "execution_count": 31,
     "metadata": {},
     "output_type": "execute_result"
    }
   ],
   "source": [
    "movie_data"
   ]
  },
  {
   "cell_type": "code",
   "execution_count": 32,
   "id": "baf8ea0d",
   "metadata": {},
   "outputs": [],
   "source": [
    "movie_data.to_csv('Movie_INSY5336.csv', sep=',', index = True)"
   ]
  },
  {
   "cell_type": "markdown",
   "id": "9c8d8f97",
   "metadata": {},
   "source": [
    "# Now to use the csv file "
   ]
  },
  {
   "cell_type": "code",
   "execution_count": 33,
   "id": "7a7b2069",
   "metadata": {},
   "outputs": [],
   "source": [
    "movie_df = pd.read_csv('./Movie_INSY5336.csv', sep=',')"
   ]
  },
  {
   "cell_type": "code",
   "execution_count": 34,
   "id": "278b0211",
   "metadata": {},
   "outputs": [],
   "source": [
    "# suppose user chose option 2 and give the following input\n",
    "inp = 'Francis Ford Coppola'"
   ]
  },
  {
   "cell_type": "code",
   "execution_count": 35,
   "id": "b9af3bda",
   "metadata": {},
   "outputs": [],
   "source": [
    "# we just need to apply a filter\n",
    "my_filter = movie_df['Director'].str.contains(inp)\n",
    "filtered_movies = movie_df[my_filter]"
   ]
  },
  {
   "cell_type": "code",
   "execution_count": 36,
   "id": "21b38ea7",
   "metadata": {},
   "outputs": [
    {
     "data": {
      "text/html": [
       "<div>\n",
       "<style scoped>\n",
       "    .dataframe tbody tr th:only-of-type {\n",
       "        vertical-align: middle;\n",
       "    }\n",
       "\n",
       "    .dataframe tbody tr th {\n",
       "        vertical-align: top;\n",
       "    }\n",
       "\n",
       "    .dataframe thead th {\n",
       "        text-align: right;\n",
       "    }\n",
       "</style>\n",
       "<table border=\"1\" class=\"dataframe\">\n",
       "  <thead>\n",
       "    <tr style=\"text-align: right;\">\n",
       "      <th></th>\n",
       "      <th>Name</th>\n",
       "      <th>Director</th>\n",
       "      <th>Genres</th>\n",
       "    </tr>\n",
       "  </thead>\n",
       "  <tbody>\n",
       "    <tr>\n",
       "      <th>0</th>\n",
       "      <td>The Godfather 1972</td>\n",
       "      <td>Francis Ford Coppola</td>\n",
       "      <td>Drama, Thriller, Crime</td>\n",
       "    </tr>\n",
       "    <tr>\n",
       "      <th>6</th>\n",
       "      <td>The Godfather2 1980</td>\n",
       "      <td>Francis Ford Coppola</td>\n",
       "      <td>Drama, Thriller, Crime</td>\n",
       "    </tr>\n",
       "  </tbody>\n",
       "</table>\n",
       "</div>"
      ],
      "text/plain": [
       "                  Name              Director                  Genres\n",
       "0   The Godfather 1972  Francis Ford Coppola  Drama, Thriller, Crime\n",
       "6  The Godfather2 1980  Francis Ford Coppola  Drama, Thriller, Crime"
      ]
     },
     "execution_count": 36,
     "metadata": {},
     "output_type": "execute_result"
    }
   ],
   "source": [
    "filtered_movies"
   ]
  },
  {
   "cell_type": "code",
   "execution_count": 37,
   "id": "c358d3ac",
   "metadata": {},
   "outputs": [],
   "source": [
    "# we can make the 'name' column into a list\n",
    "movies1 = list(filtered_movies['Name'])"
   ]
  },
  {
   "cell_type": "code",
   "execution_count": 38,
   "id": "b9e0b583",
   "metadata": {},
   "outputs": [
    {
     "data": {
      "text/plain": [
       "['The Godfather 1972', 'The Godfather2 1980']"
      ]
     },
     "execution_count": 38,
     "metadata": {},
     "output_type": "execute_result"
    }
   ],
   "source": [
    "movies1"
   ]
  },
  {
   "cell_type": "code",
   "execution_count": 39,
   "id": "a9ed699d",
   "metadata": {},
   "outputs": [],
   "source": [
    "genres1 = list(filtered_movies['Genres'])"
   ]
  },
  {
   "cell_type": "code",
   "execution_count": 40,
   "id": "53870014",
   "metadata": {},
   "outputs": [
    {
     "data": {
      "text/plain": [
       "['Drama, Thriller, Crime', 'Drama, Thriller, Crime']"
      ]
     },
     "execution_count": 40,
     "metadata": {},
     "output_type": "execute_result"
    }
   ],
   "source": [
    "# now be careful with this list\n",
    "# we cannot count directly, because each element contains multiple genres\n",
    "genres1"
   ]
  },
  {
   "cell_type": "code",
   "execution_count": 41,
   "id": "d49e0142",
   "metadata": {},
   "outputs": [
    {
     "data": {
      "text/plain": [
       "'Drama, Thriller, Crime, Drama, Thriller, Crime'"
      ]
     },
     "execution_count": 41,
     "metadata": {},
     "output_type": "execute_result"
    }
   ],
   "source": [
    "# so we join them first\n",
    "string1 = ', '.join(genres1)\n",
    "string1"
   ]
  },
  {
   "cell_type": "code",
   "execution_count": 43,
   "id": "a0ef3dad",
   "metadata": {},
   "outputs": [
    {
     "data": {
      "text/plain": [
       "['Drama', 'Thriller', 'Crime', 'Drama', 'Thriller', 'Crime']"
      ]
     },
     "execution_count": 43,
     "metadata": {},
     "output_type": "execute_result"
    }
   ],
   "source": [
    "# and split it again\n",
    "list1 = string1.split(', ')\n",
    "list1"
   ]
  },
  {
   "cell_type": "markdown",
   "id": "e11dd578",
   "metadata": {},
   "source": [
    "# now we can do the counting"
   ]
  }
 ],
 "metadata": {
  "kernelspec": {
   "display_name": "Python 3 (ipykernel)",
   "language": "python",
   "name": "python3"
  },
  "language_info": {
   "codemirror_mode": {
    "name": "ipython",
    "version": 3
   },
   "file_extension": ".py",
   "mimetype": "text/x-python",
   "name": "python",
   "nbconvert_exporter": "python",
   "pygments_lexer": "ipython3",
   "version": "3.9.12"
  }
 },
 "nbformat": 4,
 "nbformat_minor": 5
}
